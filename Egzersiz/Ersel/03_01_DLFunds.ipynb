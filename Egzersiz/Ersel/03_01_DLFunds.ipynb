{
 "cells": [
  {
   "cell_type": "code",
   "execution_count": 56,
   "metadata": {},
   "outputs": [],
   "source": [
    "from keras.models import Sequential\n",
    "from keras.layers import Dense, Dropout\n",
    "from keras.optimizers import Adam\n",
    "import pandas as pd\n",
    "import matplotlib.pyplot as plt\n",
    "import numpy as np\n",
    "from sklearn.model_selection import train_test_split\n",
    "from sklearn.preprocessing import StandardScaler"
   ]
  },
  {
   "cell_type": "code",
   "execution_count": 57,
   "metadata": {},
   "outputs": [
    {
     "data": {
      "text/html": [
       "<div>\n",
       "<style scoped>\n",
       "    .dataframe tbody tr th:only-of-type {\n",
       "        vertical-align: middle;\n",
       "    }\n",
       "\n",
       "    .dataframe tbody tr th {\n",
       "        vertical-align: top;\n",
       "    }\n",
       "\n",
       "    .dataframe thead th {\n",
       "        text-align: right;\n",
       "    }\n",
       "</style>\n",
       "<table border=\"1\" class=\"dataframe\">\n",
       "  <thead>\n",
       "    <tr style=\"text-align: right;\">\n",
       "      <th></th>\n",
       "      <th>variace</th>\n",
       "      <th>skewness</th>\n",
       "      <th>curtosis</th>\n",
       "      <th>entropy</th>\n",
       "      <th>class</th>\n",
       "    </tr>\n",
       "  </thead>\n",
       "  <tbody>\n",
       "    <tr>\n",
       "      <th>0</th>\n",
       "      <td>3.6216</td>\n",
       "      <td>8.6661</td>\n",
       "      <td>-2.8073</td>\n",
       "      <td>-0.44699</td>\n",
       "      <td>0</td>\n",
       "    </tr>\n",
       "  </tbody>\n",
       "</table>\n",
       "</div>"
      ],
      "text/plain": [
       "   variace  skewness  curtosis  entropy  class\n",
       "0   3.6216    8.6661   -2.8073 -0.44699      0"
      ]
     },
     "execution_count": 57,
     "metadata": {},
     "output_type": "execute_result"
    }
   ],
   "source": [
    "df = pd.read_csv(\"/workspace/DeepLearningFundamentals/Egzersiz/Ersel/data/banknotes.csv\")\n",
    "df.head(1)"
   ]
  },
  {
   "cell_type": "code",
   "execution_count": 58,
   "metadata": {},
   "outputs": [],
   "source": [
    "df_clean = df.copy()\n",
    "y= df_clean[\"class\"].values\n",
    "X= df_clean.drop(\"class\",axis=1)"
   ]
  },
  {
   "cell_type": "code",
   "execution_count": 59,
   "metadata": {},
   "outputs": [],
   "source": [
    "X_train,X_test,y_train,y_test=train_test_split(X,y,test_size=0.2,stratify=y,random_state=42)\n",
    "sc = StandardScaler()\n",
    "sc.fit(X_train)\n",
    "X_train_scaled =  sc.transform(X_train)\n",
    "X_test_scaled = sc.transform(X_test)"
   ]
  },
  {
   "cell_type": "code",
   "execution_count": 60,
   "metadata": {},
   "outputs": [
    {
     "name": "stdout",
     "output_type": "stream",
     "text": [
      "Model: \"sequential_8\"\n",
      "_________________________________________________________________\n",
      " Layer (type)                Output Shape              Param #   \n",
      "=================================================================\n",
      " dense_24 (Dense)            (None, 16)                80        \n",
      "                                                                 \n",
      " dense_25 (Dense)            (None, 16)                272       \n",
      "                                                                 \n",
      " dropout_6 (Dropout)         (None, 16)                0         \n",
      "                                                                 \n",
      " dense_26 (Dense)            (None, 1)                 17        \n",
      "                                                                 \n",
      "=================================================================\n",
      "Total params: 369 (1.44 KB)\n",
      "Trainable params: 369 (1.44 KB)\n",
      "Non-trainable params: 0 (0.00 Byte)\n",
      "_________________________________________________________________\n"
     ]
    }
   ],
   "source": [
    "model = Sequential()\n",
    "model.add(Dense(16,input_dim=4,activation=\"relu\"))\n",
    "model.add(Dense(16,activation=\"relu\"))\n",
    "model.add(Dropout(0.3))\n",
    "model.add(Dense(1,activation=\"sigmoid\"))\n",
    "learning_rate = 0.003\n",
    "optimizer = Adam(learning_rate=learning_rate)\n",
    "model.compile(loss=\"binary_crossentropy\",optimizer=optimizer,metrics=[\"accuracy\"])\n",
    "model.summary()\n"
   ]
  },
  {
   "cell_type": "code",
   "execution_count": 61,
   "metadata": {},
   "outputs": [
    {
     "name": "stdout",
     "output_type": "stream",
     "text": [
      "Epoch 1/30\n",
      "110/110 [==============================] - 1s 1ms/step - loss: 0.3797 - accuracy: 0.8496\n",
      "Epoch 2/30\n",
      "110/110 [==============================] - 0s 1ms/step - loss: 0.0878 - accuracy: 0.9781\n",
      "Epoch 3/30\n",
      "110/110 [==============================] - 0s 2ms/step - loss: 0.0419 - accuracy: 0.9863\n",
      "Epoch 4/30\n",
      "110/110 [==============================] - 0s 2ms/step - loss: 0.0221 - accuracy: 0.9945\n",
      "Epoch 5/30\n",
      "110/110 [==============================] - 0s 1ms/step - loss: 0.0156 - accuracy: 0.9954\n",
      "Epoch 6/30\n",
      "110/110 [==============================] - 0s 1ms/step - loss: 0.0099 - accuracy: 0.9973\n",
      "Epoch 7/30\n",
      "110/110 [==============================] - 0s 1ms/step - loss: 0.0072 - accuracy: 1.0000\n",
      "Epoch 8/30\n",
      "110/110 [==============================] - 0s 1ms/step - loss: 0.0069 - accuracy: 0.9982\n",
      "Epoch 9/30\n",
      "110/110 [==============================] - 0s 1ms/step - loss: 0.0057 - accuracy: 1.0000\n",
      "Epoch 10/30\n",
      "110/110 [==============================] - 0s 1ms/step - loss: 0.0030 - accuracy: 1.0000\n",
      "Epoch 11/30\n",
      "110/110 [==============================] - 0s 1ms/step - loss: 0.0028 - accuracy: 1.0000\n",
      "Epoch 12/30\n",
      "110/110 [==============================] - 0s 1ms/step - loss: 0.0023 - accuracy: 1.0000\n",
      "Epoch 13/30\n",
      "110/110 [==============================] - 0s 1ms/step - loss: 0.0018 - accuracy: 1.0000\n",
      "Epoch 14/30\n",
      "110/110 [==============================] - 0s 1ms/step - loss: 0.0027 - accuracy: 1.0000\n",
      "Epoch 15/30\n",
      "110/110 [==============================] - 0s 1ms/step - loss: 0.0016 - accuracy: 1.0000\n",
      "Epoch 16/30\n",
      "110/110 [==============================] - 0s 1ms/step - loss: 0.0026 - accuracy: 1.0000\n",
      "Epoch 17/30\n",
      "110/110 [==============================] - 0s 1ms/step - loss: 9.1172e-04 - accuracy: 1.0000\n",
      "Epoch 18/30\n",
      "110/110 [==============================] - 0s 1ms/step - loss: 8.4926e-04 - accuracy: 1.0000\n",
      "Epoch 19/30\n",
      "110/110 [==============================] - 0s 1ms/step - loss: 0.0010 - accuracy: 1.0000\n",
      "Epoch 20/30\n",
      "110/110 [==============================] - 0s 1ms/step - loss: 6.2815e-04 - accuracy: 1.0000\n",
      "Epoch 21/30\n",
      "110/110 [==============================] - 0s 1ms/step - loss: 0.0017 - accuracy: 0.9991\n",
      "Epoch 22/30\n",
      "110/110 [==============================] - 0s 1ms/step - loss: 4.9533e-04 - accuracy: 1.0000\n",
      "Epoch 23/30\n",
      "110/110 [==============================] - 0s 1ms/step - loss: 7.8942e-04 - accuracy: 1.0000\n",
      "Epoch 24/30\n",
      "110/110 [==============================] - 0s 1ms/step - loss: 0.0011 - accuracy: 1.0000\n",
      "Epoch 25/30\n",
      "110/110 [==============================] - 0s 1ms/step - loss: 0.0013 - accuracy: 1.0000\n",
      "Epoch 26/30\n",
      "110/110 [==============================] - 0s 1ms/step - loss: 4.3358e-04 - accuracy: 1.0000\n",
      "Epoch 27/30\n",
      "110/110 [==============================] - 0s 1ms/step - loss: 7.2295e-04 - accuracy: 1.0000\n",
      "Epoch 28/30\n",
      "110/110 [==============================] - 0s 1ms/step - loss: 0.0011 - accuracy: 0.9991\n",
      "Epoch 29/30\n",
      "110/110 [==============================] - 0s 1ms/step - loss: 6.0949e-04 - accuracy: 1.0000\n",
      "Epoch 30/30\n",
      "110/110 [==============================] - 0s 1ms/step - loss: 9.8522e-04 - accuracy: 0.9991\n"
     ]
    },
    {
     "data": {
      "text/plain": [
       "<keras.src.callbacks.History at 0x7f07a03abe50>"
      ]
     },
     "execution_count": 61,
     "metadata": {},
     "output_type": "execute_result"
    }
   ],
   "source": [
    "model.fit(X_train_scaled,y_train,epochs=30,batch_size=10)"
   ]
  },
  {
   "cell_type": "code",
   "execution_count": 62,
   "metadata": {},
   "outputs": [
    {
     "name": "stdout",
     "output_type": "stream",
     "text": [
      "9/9 [==============================] - 0s 1ms/step - loss: 3.7136 - accuracy: 0.8618\n"
     ]
    }
   ],
   "source": [
    "_,accuracy = model.evaluate(X_test,y_test)"
   ]
  },
  {
   "cell_type": "code",
   "execution_count": null,
   "metadata": {},
   "outputs": [],
   "source": []
  }
 ],
 "metadata": {
  "kernelspec": {
   "display_name": "Python 3",
   "language": "python",
   "name": "python3"
  },
  "language_info": {
   "codemirror_mode": {
    "name": "ipython",
    "version": 3
   },
   "file_extension": ".py",
   "mimetype": "text/x-python",
   "name": "python",
   "nbconvert_exporter": "python",
   "pygments_lexer": "ipython3",
   "version": "3.11.1"
  },
  "orig_nbformat": 4
 },
 "nbformat": 4,
 "nbformat_minor": 2
}
