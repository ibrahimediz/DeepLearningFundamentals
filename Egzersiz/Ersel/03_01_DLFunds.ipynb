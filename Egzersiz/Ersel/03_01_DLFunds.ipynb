{
 "cells": [
  {
   "cell_type": "code",
   "execution_count": 85,
   "metadata": {},
   "outputs": [],
   "source": [
    "from keras.models import Sequential\n",
    "from keras.layers import Dense, Dropout\n",
    "from keras.optimizers import Adam\n",
    "import pandas as pd\n",
    "import matplotlib.pyplot as plt\n",
    "import numpy as np\n",
    "from sklearn.model_selection import train_test_split\n",
    "from sklearn.preprocessing import StandardScaler"
   ]
  },
  {
   "cell_type": "code",
   "execution_count": 86,
   "metadata": {},
   "outputs": [
    {
     "data": {
      "text/html": [
       "<div>\n",
       "<style scoped>\n",
       "    .dataframe tbody tr th:only-of-type {\n",
       "        vertical-align: middle;\n",
       "    }\n",
       "\n",
       "    .dataframe tbody tr th {\n",
       "        vertical-align: top;\n",
       "    }\n",
       "\n",
       "    .dataframe thead th {\n",
       "        text-align: right;\n",
       "    }\n",
       "</style>\n",
       "<table border=\"1\" class=\"dataframe\">\n",
       "  <thead>\n",
       "    <tr style=\"text-align: right;\">\n",
       "      <th></th>\n",
       "      <th>Pregnancies</th>\n",
       "      <th>Glucose</th>\n",
       "      <th>BloodPressure</th>\n",
       "      <th>SkinThickness</th>\n",
       "      <th>Insulin</th>\n",
       "      <th>BMI</th>\n",
       "      <th>DiabetesPedigreeFunction</th>\n",
       "      <th>Age</th>\n",
       "      <th>Outcome</th>\n",
       "    </tr>\n",
       "  </thead>\n",
       "  <tbody>\n",
       "    <tr>\n",
       "      <th>0</th>\n",
       "      <td>6</td>\n",
       "      <td>148</td>\n",
       "      <td>72</td>\n",
       "      <td>35</td>\n",
       "      <td>0</td>\n",
       "      <td>33.6</td>\n",
       "      <td>0.627</td>\n",
       "      <td>50</td>\n",
       "      <td>1</td>\n",
       "    </tr>\n",
       "  </tbody>\n",
       "</table>\n",
       "</div>"
      ],
      "text/plain": [
       "   Pregnancies  Glucose  BloodPressure  SkinThickness  Insulin   BMI  \\\n",
       "0            6      148             72             35        0  33.6   \n",
       "\n",
       "   DiabetesPedigreeFunction  Age  Outcome  \n",
       "0                     0.627   50        1  "
      ]
     },
     "execution_count": 86,
     "metadata": {},
     "output_type": "execute_result"
    }
   ],
   "source": [
    "df = pd.read_csv(\"/workspace/DeepLearningFundamentals/Dokumanlar/02_MachineLearning/data/diabetes.csv\")\n",
    "df.head(1)"
   ]
  },
  {
   "cell_type": "code",
   "execution_count": 87,
   "metadata": {},
   "outputs": [],
   "source": [
    "out=[]\n",
    "def iqr_outliers(df):\n",
    "    q1 = df.quantile(0.25)\n",
    "    q3 = df.quantile(0.75)\n",
    "    iqr = q3-q1\n",
    "    Lower_tail = q1 - 1.5 * iqr\n",
    "    Upper_tail = q3 + 1.5 * iqr\n",
    "    return df[~((df<Lower_tail) | (df>Upper_tail)).any(axis=1)]\n",
    "    # df2 = df[~df.isin(\"aykırıdeğerler\")].dropna()\n",
    "df_clean = iqr_outliers(df)\n",
    "out=[]\n",
    "def iqr_outliers(df):\n",
    "    q1 = df.quantile(0.25)\n",
    "    q3 = df.quantile(0.75)\n",
    "    iqr = q3-q1\n",
    "    Lower_tail = q1 - 1.5 * iqr\n",
    "    Upper_tail = q3 + 1.5 * iqr\n",
    "    for i in df:\n",
    "        if i > Upper_tail or i < Lower_tail:\n",
    "            out.append(i)\n",
    "    # return df[~((df<Lower_tail) | (df>Upper_tail)).any(axis=1)]\n",
    "    return  df[~df.isin(out)].dropna(axis=0)\n",
    "dfclean = df.copy()\n",
    "dfclean[\"Age\"] = iqr_outliers(df[\"Age\"])\n",
    "y= df_clean[\"Outcome\"].values\n",
    "X= df_clean.drop(\"Outcome\",axis=1)"
   ]
  },
  {
   "cell_type": "code",
   "execution_count": 88,
   "metadata": {},
   "outputs": [],
   "source": [
    "X_train,X_test,y_train,y_test=train_test_split(X,y,test_size=0.2,stratify=y,random_state=42)\n",
    "sc = StandardScaler()\n",
    "sc.fit(X_train)\n",
    "X_train_scaled =  sc.transform(X_train)\n",
    "X_test_scaled = sc.transform(X_test)"
   ]
  },
  {
   "cell_type": "code",
   "execution_count": 98,
   "metadata": {},
   "outputs": [
    {
     "name": "stdout",
     "output_type": "stream",
     "text": [
      "Model: \"sequential_19\"\n",
      "_________________________________________________________________\n",
      " Layer (type)                Output Shape              Param #   \n",
      "=================================================================\n",
      " dense_47 (Dense)            (None, 8)                 72        \n",
      "                                                                 \n",
      " dense_48 (Dense)            (None, 16)                144       \n",
      "                                                                 \n",
      " dropout_11 (Dropout)        (None, 16)                0         \n",
      "                                                                 \n",
      " dense_49 (Dense)            (None, 1)                 17        \n",
      "                                                                 \n",
      "=================================================================\n",
      "Total params: 233 (932.00 Byte)\n",
      "Trainable params: 233 (932.00 Byte)\n",
      "Non-trainable params: 0 (0.00 Byte)\n",
      "_________________________________________________________________\n"
     ]
    }
   ],
   "source": [
    "model = Sequential()\n",
    "\n",
    "model.add(Dense(8,input_dim=8,activation=\"relu\"))\n",
    "model.add(Dense(16,activation=\"softmax\"))\n",
    "model.add(Dropout(0.3))\n",
    "model.add(Dense(1,activation=\"relu\"))\n",
    "learning_rate = 0.003\n",
    "optimizer = Adam(learning_rate=learning_rate)\n",
    "model.compile(loss=\"binary_crossentropy\",optimizer=optimizer,metrics=[\"accuracy\"])\n",
    "model.summary()\n"
   ]
  },
  {
   "cell_type": "code",
   "execution_count": 99,
   "metadata": {},
   "outputs": [
    {
     "name": "stdout",
     "output_type": "stream",
     "text": [
      "Epoch 1/30\n",
      "52/52 [==============================] - 1s 1ms/step - loss: 2.6914 - accuracy: 0.6869\n",
      "Epoch 2/30\n",
      "52/52 [==============================] - 0s 1ms/step - loss: 1.3676 - accuracy: 0.6869\n",
      "Epoch 3/30\n",
      "52/52 [==============================] - 0s 1ms/step - loss: 1.2835 - accuracy: 0.6869\n",
      "Epoch 4/30\n",
      "52/52 [==============================] - 0s 1ms/step - loss: 0.9265 - accuracy: 0.6888\n",
      "Epoch 5/30\n",
      "52/52 [==============================] - 0s 1ms/step - loss: 0.8659 - accuracy: 0.6888\n",
      "Epoch 6/30\n",
      "52/52 [==============================] - 0s 1ms/step - loss: 0.6781 - accuracy: 0.7025\n",
      "Epoch 7/30\n",
      "52/52 [==============================] - 0s 1ms/step - loss: 0.7134 - accuracy: 0.7006\n",
      "Epoch 8/30\n",
      "52/52 [==============================] - 0s 1ms/step - loss: 0.6989 - accuracy: 0.7123\n",
      "Epoch 9/30\n",
      "52/52 [==============================] - 0s 1ms/step - loss: 0.6039 - accuracy: 0.6986\n",
      "Epoch 10/30\n",
      "52/52 [==============================] - 0s 1ms/step - loss: 0.5550 - accuracy: 0.7280\n",
      "Epoch 11/30\n",
      "52/52 [==============================] - 0s 1ms/step - loss: 0.5263 - accuracy: 0.7319\n",
      "Epoch 12/30\n",
      "52/52 [==============================] - 0s 1ms/step - loss: 0.5436 - accuracy: 0.7280\n",
      "Epoch 13/30\n",
      "52/52 [==============================] - 0s 1ms/step - loss: 0.5251 - accuracy: 0.7456\n",
      "Epoch 14/30\n",
      "52/52 [==============================] - 0s 1ms/step - loss: 0.5209 - accuracy: 0.7378\n",
      "Epoch 15/30\n",
      "52/52 [==============================] - 0s 1ms/step - loss: 0.4683 - accuracy: 0.7632\n",
      "Epoch 16/30\n",
      "52/52 [==============================] - 0s 1ms/step - loss: 0.5236 - accuracy: 0.7397\n",
      "Epoch 17/30\n",
      "52/52 [==============================] - 0s 2ms/step - loss: 0.5234 - accuracy: 0.7476\n",
      "Epoch 18/30\n",
      "52/52 [==============================] - 0s 2ms/step - loss: 0.6042 - accuracy: 0.7260\n",
      "Epoch 19/30\n",
      "52/52 [==============================] - 0s 2ms/step - loss: 0.5283 - accuracy: 0.7534\n",
      "Epoch 20/30\n",
      "52/52 [==============================] - 0s 2ms/step - loss: 0.5232 - accuracy: 0.7573\n",
      "Epoch 21/30\n",
      "52/52 [==============================] - 0s 2ms/step - loss: 0.5873 - accuracy: 0.7260\n",
      "Epoch 22/30\n",
      "52/52 [==============================] - 0s 1ms/step - loss: 0.4745 - accuracy: 0.7652\n",
      "Epoch 23/30\n",
      "52/52 [==============================] - 0s 1ms/step - loss: 0.5155 - accuracy: 0.7397\n",
      "Epoch 24/30\n",
      "52/52 [==============================] - 0s 1ms/step - loss: 0.4935 - accuracy: 0.7593\n",
      "Epoch 25/30\n",
      "52/52 [==============================] - 0s 1ms/step - loss: 0.5141 - accuracy: 0.7573\n",
      "Epoch 26/30\n",
      "52/52 [==============================] - 0s 1ms/step - loss: 0.5490 - accuracy: 0.7319\n",
      "Epoch 27/30\n",
      "52/52 [==============================] - 0s 1ms/step - loss: 0.4846 - accuracy: 0.7593\n",
      "Epoch 28/30\n",
      "52/52 [==============================] - 0s 1ms/step - loss: 0.5078 - accuracy: 0.7534\n",
      "Epoch 29/30\n",
      "52/52 [==============================] - 0s 1ms/step - loss: 0.4932 - accuracy: 0.7515\n",
      "Epoch 30/30\n",
      "52/52 [==============================] - 0s 1ms/step - loss: 0.4790 - accuracy: 0.7613\n"
     ]
    },
    {
     "data": {
      "text/plain": [
       "<keras.src.callbacks.History at 0x7fd4a1c420d0>"
      ]
     },
     "execution_count": 99,
     "metadata": {},
     "output_type": "execute_result"
    }
   ],
   "source": [
    "model.fit(X_train_scaled,y_train,epochs=30,batch_size=10)"
   ]
  },
  {
   "cell_type": "code",
   "execution_count": 100,
   "metadata": {},
   "outputs": [
    {
     "name": "stdout",
     "output_type": "stream",
     "text": [
      "4/4 [==============================] - 0s 2ms/step - loss: 0.4994 - accuracy: 0.7500\n"
     ]
    }
   ],
   "source": [
    "_,accuracy = model.evaluate(X_test_scaled,y_test)"
   ]
  },
  {
   "cell_type": "code",
   "execution_count": null,
   "metadata": {},
   "outputs": [],
   "source": []
  }
 ],
 "metadata": {
  "kernelspec": {
   "display_name": "Python 3",
   "language": "python",
   "name": "python3"
  },
  "language_info": {
   "codemirror_mode": {
    "name": "ipython",
    "version": 3
   },
   "file_extension": ".py",
   "mimetype": "text/x-python",
   "name": "python",
   "nbconvert_exporter": "python",
   "pygments_lexer": "ipython3",
   "version": "3.11.1"
  },
  "orig_nbformat": 4
 },
 "nbformat": 4,
 "nbformat_minor": 2
}
