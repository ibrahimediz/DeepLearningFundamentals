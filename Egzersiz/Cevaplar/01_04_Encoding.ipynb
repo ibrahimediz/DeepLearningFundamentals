{
 "cells": [
  {
   "attachments": {},
   "cell_type": "markdown",
   "metadata": {},
   "source": [
    "/workspace/DeepLearningFundamentals/preprocess1.csv\n",
    "\n",
    "yukarıdaki adreste bulunan veriler üzerinde \n",
    "1. Boş verilerin giderilmesi\n",
    "2. Kategorik verilerin nümerik verilere çevrilmesi işlemlerini gerçekleştirip;\n",
    "bulunduğunuz klasör içerisinde AdSoyad.csv dosyası olarak kaydediniz."
   ]
  },
  {
   "cell_type": "code",
   "execution_count": 25,
   "metadata": {},
   "outputs": [],
   "source": [
    "import pandas as pd\n",
    "from sklearn.preprocessing import LabelEncoder,OneHotEncoder\n",
    "from sklearn.compose import ColumnTransformer\n",
    "from sklearn.impute import SimpleImputer"
   ]
  },
  {
   "cell_type": "code",
   "execution_count": 26,
   "metadata": {},
   "outputs": [
    {
     "data": {
      "text/html": [
       "<div>\n",
       "<style scoped>\n",
       "    .dataframe tbody tr th:only-of-type {\n",
       "        vertical-align: middle;\n",
       "    }\n",
       "\n",
       "    .dataframe tbody tr th {\n",
       "        vertical-align: top;\n",
       "    }\n",
       "\n",
       "    .dataframe thead th {\n",
       "        text-align: right;\n",
       "    }\n",
       "</style>\n",
       "<table border=\"1\" class=\"dataframe\">\n",
       "  <thead>\n",
       "    <tr style=\"text-align: right;\">\n",
       "      <th></th>\n",
       "      <th>vol_requests</th>\n",
       "      <th>event_time</th>\n",
       "      <th>hits</th>\n",
       "      <th>is_priority</th>\n",
       "      <th>category_id</th>\n",
       "      <th>amsl</th>\n",
       "      <th>amsl_unit</th>\n",
       "      <th>org_title</th>\n",
       "      <th>org_content_id</th>\n",
       "      <th>addresses_count</th>\n",
       "      <th>...</th>\n",
       "      <th>hours</th>\n",
       "      <th>created_date</th>\n",
       "      <th>last_modified_date</th>\n",
       "      <th>status</th>\n",
       "      <th>Latitude</th>\n",
       "      <th>Longitude</th>\n",
       "      <th>Census Tract</th>\n",
       "      <th>BIN</th>\n",
       "      <th>BBL</th>\n",
       "      <th>NTA</th>\n",
       "    </tr>\n",
       "  </thead>\n",
       "  <tbody>\n",
       "    <tr>\n",
       "      <th>0</th>\n",
       "      <td>50</td>\n",
       "      <td>0</td>\n",
       "      <td>737</td>\n",
       "      <td>NaN</td>\n",
       "      <td>NaN</td>\n",
       "      <td>NaN</td>\n",
       "      <td>NaN</td>\n",
       "      <td>Center For NYC Neighborhoods</td>\n",
       "      <td>4426</td>\n",
       "      <td>1</td>\n",
       "      <td>...</td>\n",
       "      <td>0</td>\n",
       "      <td>January 13 2011</td>\n",
       "      <td>June 23 2011</td>\n",
       "      <td>approved</td>\n",
       "      <td>NaN</td>\n",
       "      <td>NaN</td>\n",
       "      <td>NaN</td>\n",
       "      <td>NaN</td>\n",
       "      <td>NaN</td>\n",
       "      <td>NaN</td>\n",
       "    </tr>\n",
       "    <tr>\n",
       "      <th>1</th>\n",
       "      <td>2</td>\n",
       "      <td>0</td>\n",
       "      <td>22</td>\n",
       "      <td>NaN</td>\n",
       "      <td>1.0</td>\n",
       "      <td>NaN</td>\n",
       "      <td>NaN</td>\n",
       "      <td>Bpeace</td>\n",
       "      <td>37026</td>\n",
       "      <td>1</td>\n",
       "      <td>...</td>\n",
       "      <td>0</td>\n",
       "      <td>January 14 2011</td>\n",
       "      <td>January 25 2011</td>\n",
       "      <td>approved</td>\n",
       "      <td>NaN</td>\n",
       "      <td>NaN</td>\n",
       "      <td>NaN</td>\n",
       "      <td>NaN</td>\n",
       "      <td>NaN</td>\n",
       "      <td>NaN</td>\n",
       "    </tr>\n",
       "    <tr>\n",
       "      <th>2</th>\n",
       "      <td>20</td>\n",
       "      <td>0</td>\n",
       "      <td>62</td>\n",
       "      <td>NaN</td>\n",
       "      <td>1.0</td>\n",
       "      <td>NaN</td>\n",
       "      <td>NaN</td>\n",
       "      <td>Street Project</td>\n",
       "      <td>3001</td>\n",
       "      <td>1</td>\n",
       "      <td>...</td>\n",
       "      <td>0</td>\n",
       "      <td>January 19 2011</td>\n",
       "      <td>January 21 2011</td>\n",
       "      <td>approved</td>\n",
       "      <td>NaN</td>\n",
       "      <td>NaN</td>\n",
       "      <td>NaN</td>\n",
       "      <td>NaN</td>\n",
       "      <td>NaN</td>\n",
       "      <td>NaN</td>\n",
       "    </tr>\n",
       "    <tr>\n",
       "      <th>3</th>\n",
       "      <td>500</td>\n",
       "      <td>0</td>\n",
       "      <td>14</td>\n",
       "      <td>NaN</td>\n",
       "      <td>1.0</td>\n",
       "      <td>NaN</td>\n",
       "      <td>NaN</td>\n",
       "      <td>Oxfam America</td>\n",
       "      <td>2170</td>\n",
       "      <td>1</td>\n",
       "      <td>...</td>\n",
       "      <td>0</td>\n",
       "      <td>January 21 2011</td>\n",
       "      <td>January 25 2011</td>\n",
       "      <td>approved</td>\n",
       "      <td>NaN</td>\n",
       "      <td>NaN</td>\n",
       "      <td>NaN</td>\n",
       "      <td>NaN</td>\n",
       "      <td>NaN</td>\n",
       "      <td>NaN</td>\n",
       "    </tr>\n",
       "    <tr>\n",
       "      <th>4</th>\n",
       "      <td>15</td>\n",
       "      <td>0</td>\n",
       "      <td>31</td>\n",
       "      <td>NaN</td>\n",
       "      <td>4.0</td>\n",
       "      <td>NaN</td>\n",
       "      <td>NaN</td>\n",
       "      <td>Office of Recycling Outreach and Education</td>\n",
       "      <td>36773</td>\n",
       "      <td>1</td>\n",
       "      <td>...</td>\n",
       "      <td>0</td>\n",
       "      <td>January 28 2011</td>\n",
       "      <td>February 01 2011</td>\n",
       "      <td>approved</td>\n",
       "      <td>NaN</td>\n",
       "      <td>NaN</td>\n",
       "      <td>NaN</td>\n",
       "      <td>NaN</td>\n",
       "      <td>NaN</td>\n",
       "      <td>NaN</td>\n",
       "    </tr>\n",
       "  </tbody>\n",
       "</table>\n",
       "<p>5 rows × 26 columns</p>\n",
       "</div>"
      ],
      "text/plain": [
       "   vol_requests  event_time  hits is_priority  category_id  amsl  amsl_unit  \\\n",
       "0            50           0   737         NaN          NaN   NaN        NaN   \n",
       "1             2           0    22         NaN          1.0   NaN        NaN   \n",
       "2            20           0    62         NaN          1.0   NaN        NaN   \n",
       "3           500           0    14         NaN          1.0   NaN        NaN   \n",
       "4            15           0    31         NaN          4.0   NaN        NaN   \n",
       "\n",
       "                                    org_title  org_content_id  \\\n",
       "0                Center For NYC Neighborhoods            4426   \n",
       "1                                      Bpeace           37026   \n",
       "2                              Street Project            3001   \n",
       "3                               Oxfam America            2170   \n",
       "4  Office of Recycling Outreach and Education           36773   \n",
       "\n",
       "   addresses_count  ... hours     created_date  last_modified_date    status  \\\n",
       "0                1  ...     0  January 13 2011        June 23 2011  approved   \n",
       "1                1  ...     0  January 14 2011     January 25 2011  approved   \n",
       "2                1  ...     0  January 19 2011     January 21 2011  approved   \n",
       "3                1  ...     0  January 21 2011     January 25 2011  approved   \n",
       "4                1  ...     0  January 28 2011    February 01 2011  approved   \n",
       "\n",
       "  Latitude Longitude  Census Tract BIN BBL NTA  \n",
       "0      NaN       NaN           NaN NaN NaN NaN  \n",
       "1      NaN       NaN           NaN NaN NaN NaN  \n",
       "2      NaN       NaN           NaN NaN NaN NaN  \n",
       "3      NaN       NaN           NaN NaN NaN NaN  \n",
       "4      NaN       NaN           NaN NaN NaN NaN  \n",
       "\n",
       "[5 rows x 26 columns]"
      ]
     },
     "execution_count": 26,
     "metadata": {},
     "output_type": "execute_result"
    }
   ],
   "source": [
    "df = pd.read_csv(\"/workspace/DeepLearningFundamentals/preprocess1.csv\",index_col=[0])\n",
    "df.head()"
   ]
  },
  {
   "cell_type": "code",
   "execution_count": 27,
   "metadata": {},
   "outputs": [
    {
     "data": {
      "text/plain": [
       "vol_requests            0\n",
       "event_time              0\n",
       "hits                    0\n",
       "is_priority           603\n",
       "category_id            48\n",
       "amsl                  665\n",
       "amsl_unit             665\n",
       "org_title               0\n",
       "org_content_id          0\n",
       "addresses_count         0\n",
       "locality               70\n",
       "region                  0\n",
       "postalcode              6\n",
       "primary_loc           665\n",
       "display_url             0\n",
       "recurrence_type         0\n",
       "hours                   0\n",
       "created_date            0\n",
       "last_modified_date      0\n",
       "status                  0\n",
       "Latitude              665\n",
       "Longitude             665\n",
       "Census Tract          665\n",
       "BIN                   665\n",
       "BBL                   665\n",
       "NTA                   665\n",
       "dtype: int64"
      ]
     },
     "execution_count": 27,
     "metadata": {},
     "output_type": "execute_result"
    }
   ],
   "source": [
    "df.isna().sum()"
   ]
  },
  {
   "cell_type": "code",
   "execution_count": 28,
   "metadata": {},
   "outputs": [
    {
     "data": {
      "text/plain": [
       "Index(['vol_requests', 'event_time', 'hits', 'is_priority', 'category_id',\n",
       "       'amsl', 'amsl_unit', 'org_title', 'org_content_id', 'addresses_count',\n",
       "       'locality', 'region', 'postalcode', 'primary_loc', 'display_url',\n",
       "       'recurrence_type', 'hours', 'created_date', 'last_modified_date',\n",
       "       'status', 'Latitude', 'Longitude', 'Census Tract', 'BIN', 'BBL', 'NTA'],\n",
       "      dtype='object')"
      ]
     },
     "execution_count": 28,
     "metadata": {},
     "output_type": "execute_result"
    }
   ],
   "source": [
    "df.columns"
   ]
  },
  {
   "cell_type": "code",
   "execution_count": 29,
   "metadata": {},
   "outputs": [],
   "source": [
    "df.drop(['Latitude',\"org_title\", 'Longitude', 'Census Tract', 'BIN', 'BBL', \n",
    "'NTA',\"primary_loc\",'amsl', 'region','amsl_unit',\"is_priority\",\"locality\",'created_date',\n",
    " 'last_modified_date','hours',\"display_url\",'status'],axis=1,inplace=True)"
   ]
  },
  {
   "cell_type": "code",
   "execution_count": 30,
   "metadata": {},
   "outputs": [
    {
     "data": {
      "text/plain": [
       "vol_requests        0\n",
       "event_time          0\n",
       "hits                0\n",
       "category_id        48\n",
       "org_content_id      0\n",
       "addresses_count     0\n",
       "postalcode          6\n",
       "recurrence_type     0\n",
       "dtype: int64"
      ]
     },
     "execution_count": 30,
     "metadata": {},
     "output_type": "execute_result"
    }
   ],
   "source": [
    "\n"
   ]
  },
  {
   "cell_type": "code",
   "execution_count": 31,
   "metadata": {},
   "outputs": [],
   "source": [
    "imputer = SimpleImputer(strategy=\"most_frequent\")\n",
    "df[\"category_id\"]=imputer.fit_transform(df[[\"category_id\"]])"
   ]
  },
  {
   "cell_type": "code",
   "execution_count": 32,
   "metadata": {},
   "outputs": [],
   "source": [
    "df[\"postalcode\"]=imputer.fit_transform(df[[\"postalcode\"]])"
   ]
  },
  {
   "cell_type": "code",
   "execution_count": 33,
   "metadata": {},
   "outputs": [
    {
     "data": {
      "text/plain": [
       "vol_requests       0\n",
       "event_time         0\n",
       "hits               0\n",
       "category_id        0\n",
       "org_content_id     0\n",
       "addresses_count    0\n",
       "postalcode         0\n",
       "recurrence_type    0\n",
       "dtype: int64"
      ]
     },
     "execution_count": 33,
     "metadata": {},
     "output_type": "execute_result"
    }
   ],
   "source": [
    "df.isna().sum()"
   ]
  },
  {
   "cell_type": "code",
   "execution_count": 35,
   "metadata": {},
   "outputs": [
    {
     "data": {
      "text/plain": [
       "vol_requests         int64\n",
       "event_time           int64\n",
       "hits                 int64\n",
       "category_id        float64\n",
       "org_content_id       int64\n",
       "addresses_count      int64\n",
       "postalcode         float64\n",
       "recurrence_type     object\n",
       "dtype: object"
      ]
     },
     "execution_count": 35,
     "metadata": {},
     "output_type": "execute_result"
    }
   ],
   "source": [
    "df.dtypes"
   ]
  },
  {
   "cell_type": "code",
   "execution_count": 37,
   "metadata": {},
   "outputs": [
    {
     "data": {
      "text/plain": [
       "array(['onetime', 'ongoing'], dtype=object)"
      ]
     },
     "execution_count": 37,
     "metadata": {},
     "output_type": "execute_result"
    }
   ],
   "source": [
    "df.recurrence_type.unique()"
   ]
  },
  {
   "cell_type": "code",
   "execution_count": 39,
   "metadata": {},
   "outputs": [
    {
     "name": "stdout",
     "output_type": "stream",
     "text": [
      "<class 'pandas.core.frame.DataFrame'>\n",
      "Index: 665 entries, 0 to 664\n",
      "Data columns (total 8 columns):\n",
      " #   Column           Non-Null Count  Dtype  \n",
      "---  ------           --------------  -----  \n",
      " 0   vol_requests     665 non-null    int64  \n",
      " 1   event_time       665 non-null    int64  \n",
      " 2   hits             665 non-null    int64  \n",
      " 3   category_id      665 non-null    float64\n",
      " 4   org_content_id   665 non-null    int64  \n",
      " 5   addresses_count  665 non-null    int64  \n",
      " 6   postalcode       665 non-null    float64\n",
      " 7   recurrence_type  665 non-null    int64  \n",
      "dtypes: float64(2), int64(6)\n",
      "memory usage: 46.8 KB\n"
     ]
    },
    {
     "name": "stderr",
     "output_type": "stream",
     "text": [
      "/home/gitpod/.pyenv/versions/3.11.1/lib/python3.11/site-packages/sklearn/preprocessing/_label.py:114: DataConversionWarning: A column-vector y was passed when a 1d array was expected. Please change the shape of y to (n_samples, ), for example using ravel().\n",
      "  y = column_or_1d(y, warn=True)\n"
     ]
    }
   ],
   "source": [
    "le = LabelEncoder()\n",
    "df[\"recurrence_type\"]=le.fit_transform(df[[\"recurrence_type\"]])\n",
    "df.info()"
   ]
  },
  {
   "cell_type": "code",
   "execution_count": 40,
   "metadata": {},
   "outputs": [
    {
     "data": {
      "text/html": [
       "<div>\n",
       "<style scoped>\n",
       "    .dataframe tbody tr th:only-of-type {\n",
       "        vertical-align: middle;\n",
       "    }\n",
       "\n",
       "    .dataframe tbody tr th {\n",
       "        vertical-align: top;\n",
       "    }\n",
       "\n",
       "    .dataframe thead th {\n",
       "        text-align: right;\n",
       "    }\n",
       "</style>\n",
       "<table border=\"1\" class=\"dataframe\">\n",
       "  <thead>\n",
       "    <tr style=\"text-align: right;\">\n",
       "      <th></th>\n",
       "      <th>vol_requests</th>\n",
       "      <th>event_time</th>\n",
       "      <th>hits</th>\n",
       "      <th>category_id</th>\n",
       "      <th>org_content_id</th>\n",
       "      <th>addresses_count</th>\n",
       "      <th>postalcode</th>\n",
       "      <th>recurrence_type</th>\n",
       "    </tr>\n",
       "  </thead>\n",
       "  <tbody>\n",
       "    <tr>\n",
       "      <th>0</th>\n",
       "      <td>50</td>\n",
       "      <td>0</td>\n",
       "      <td>737</td>\n",
       "      <td>1.0</td>\n",
       "      <td>4426</td>\n",
       "      <td>1</td>\n",
       "      <td>10013.0</td>\n",
       "      <td>0</td>\n",
       "    </tr>\n",
       "    <tr>\n",
       "      <th>1</th>\n",
       "      <td>2</td>\n",
       "      <td>0</td>\n",
       "      <td>22</td>\n",
       "      <td>1.0</td>\n",
       "      <td>37026</td>\n",
       "      <td>1</td>\n",
       "      <td>10010.0</td>\n",
       "      <td>0</td>\n",
       "    </tr>\n",
       "    <tr>\n",
       "      <th>2</th>\n",
       "      <td>20</td>\n",
       "      <td>0</td>\n",
       "      <td>62</td>\n",
       "      <td>1.0</td>\n",
       "      <td>3001</td>\n",
       "      <td>1</td>\n",
       "      <td>10026.0</td>\n",
       "      <td>0</td>\n",
       "    </tr>\n",
       "    <tr>\n",
       "      <th>3</th>\n",
       "      <td>500</td>\n",
       "      <td>0</td>\n",
       "      <td>14</td>\n",
       "      <td>1.0</td>\n",
       "      <td>2170</td>\n",
       "      <td>1</td>\n",
       "      <td>2114.0</td>\n",
       "      <td>1</td>\n",
       "    </tr>\n",
       "    <tr>\n",
       "      <th>4</th>\n",
       "      <td>15</td>\n",
       "      <td>0</td>\n",
       "      <td>31</td>\n",
       "      <td>4.0</td>\n",
       "      <td>36773</td>\n",
       "      <td>1</td>\n",
       "      <td>10455.0</td>\n",
       "      <td>0</td>\n",
       "    </tr>\n",
       "  </tbody>\n",
       "</table>\n",
       "</div>"
      ],
      "text/plain": [
       "   vol_requests  event_time  hits  category_id  org_content_id  \\\n",
       "0            50           0   737          1.0            4426   \n",
       "1             2           0    22          1.0           37026   \n",
       "2            20           0    62          1.0            3001   \n",
       "3           500           0    14          1.0            2170   \n",
       "4            15           0    31          4.0           36773   \n",
       "\n",
       "   addresses_count  postalcode  recurrence_type  \n",
       "0                1     10013.0                0  \n",
       "1                1     10010.0                0  \n",
       "2                1     10026.0                0  \n",
       "3                1      2114.0                1  \n",
       "4                1     10455.0                0  "
      ]
     },
     "execution_count": 40,
     "metadata": {},
     "output_type": "execute_result"
    }
   ],
   "source": [
    "df.head()"
   ]
  },
  {
   "cell_type": "code",
   "execution_count": null,
   "metadata": {},
   "outputs": [],
   "source": []
  }
 ],
 "metadata": {
  "kernelspec": {
   "display_name": "Python 3",
   "language": "python",
   "name": "python3"
  },
  "language_info": {
   "codemirror_mode": {
    "name": "ipython",
    "version": 3
   },
   "file_extension": ".py",
   "mimetype": "text/x-python",
   "name": "python",
   "nbconvert_exporter": "python",
   "pygments_lexer": "ipython3",
   "version": "3.11.1"
  },
  "orig_nbformat": 4
 },
 "nbformat": 4,
 "nbformat_minor": 2
}
