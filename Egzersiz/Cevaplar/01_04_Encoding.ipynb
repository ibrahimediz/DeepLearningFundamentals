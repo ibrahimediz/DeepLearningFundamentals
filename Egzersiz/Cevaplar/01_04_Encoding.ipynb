{
 "cells": [
  {
   "attachments": {},
   "cell_type": "markdown",
   "metadata": {},
   "source": [
    "/workspace/DeepLearningFundamentals/preprocess.csv\n",
    "\n",
    "yukarıdaki adreste bulunan veriler üzerinde \n",
    "1. Boş verilerin giderilmesi\n",
    "2. Kategorik verilerin nümerik verilere çevrilmesi işlemlerini gerçekleştirip;\n",
    "bulunduğunuz klasör içerisinde AdSoyad.csv dosyası olarak kaydediniz."
   ]
  },
  {
   "cell_type": "code",
   "execution_count": null,
   "metadata": {},
   "outputs": [],
   "source": []
  }
 ],
 "metadata": {
  "language_info": {
   "name": "python"
  },
  "orig_nbformat": 4
 },
 "nbformat": 4,
 "nbformat_minor": 2
}
