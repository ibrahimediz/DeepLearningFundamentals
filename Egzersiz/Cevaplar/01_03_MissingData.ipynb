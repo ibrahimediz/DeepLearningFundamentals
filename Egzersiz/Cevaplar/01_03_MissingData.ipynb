{
 "cells": [
  {
   "attachments": {},
   "cell_type": "markdown",
   "metadata": {},
   "source": [
    "/workspace/DeepLearningFundamentals/hiking.json\n",
    "yukarıdaki adreste bulunan veri setinde\n",
    "1. boş verilerin tespit edilmesi\n",
    "2. boş verilerin sütunları silerek temizlenmesi"
   ]
  },
  {
   "cell_type": "code",
   "execution_count": null,
   "metadata": {},
   "outputs": [],
   "source": []
  }
 ],
 "metadata": {
  "language_info": {
   "name": "python"
  },
  "orig_nbformat": 4
 },
 "nbformat": 4,
 "nbformat_minor": 2
}
