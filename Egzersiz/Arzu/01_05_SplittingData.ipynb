{
 "cells": [
  {
   "cell_type": "code",
   "execution_count": 3,
   "metadata": {},
   "outputs": [
    {
     "data": {
      "text/plain": [
       "<bound method NDFrame.describe of      AGE_50  MD_50  SBP_50  DBP_50  HT_50  WT_50  CHOL_50  SES  CL_STATUS  \\\n",
       "0        42      1     110      65     64    147      291    2          8   \n",
       "1        53      1     130      72     69    167      278    1          6   \n",
       "2        53      2     120      90     70    222      342    4          8   \n",
       "3        48      4     120      80     72    229      239    4          8   \n",
       "4        53      3     118      74     66    134      243    3          8   \n",
       "..      ...    ...     ...     ...    ...    ...      ...  ...        ...   \n",
       "195      50      1     115      80     66    148      300    2          8   \n",
       "196      23      1     110      70     69    137      120    3          8   \n",
       "197      20      3     130      80     66    150      210    5          0   \n",
       "198      46      3     140      84     66    138      130    4          6   \n",
       "199      36      1     100      70     70    157      260    3          8   \n",
       "\n",
       "     MD_62  SBP_62  DBP_62  CHOL_62  WT_62  IHD_DX  DEATH  \n",
       "0        4     120      78      271    146       2      1  \n",
       "1        2     122      68      250    165       9      1  \n",
       "2        1     132      90      304    223       2      1  \n",
       "3        2     118      68      209    227       3      1  \n",
       "4        5     118      56      261    138       2      1  \n",
       "..     ...     ...     ...      ...    ...     ...    ...  \n",
       "195      1     115      65      273    152       0      0  \n",
       "196      2     112      76      198    153       0      0  \n",
       "197      1     130      85      274    158       0      0  \n",
       "198      2     148      88      160    157       0      0  \n",
       "199      3     120      86      251    152       0      0  \n",
       "\n",
       "[200 rows x 16 columns]>"
      ]
     },
     "execution_count": 3,
     "metadata": {},
     "output_type": "execute_result"
    }
   ],
   "source": [
    "import pandas as pd\n",
    "adres = \"/workspace/DeepLearningFundamentals/Datasets/heart.csv\"\n",
    "df = pd.read_csv(adres)\n",
    "df.head()\n",
    "df.describe"
   ]
  },
  {
   "cell_type": "code",
   "execution_count": null,
   "metadata": {},
   "outputs": [],
   "source": []
  }
 ],
 "metadata": {
  "kernelspec": {
   "display_name": "Python 3",
   "language": "python",
   "name": "python3"
  },
  "language_info": {
   "codemirror_mode": {
    "name": "ipython",
    "version": 3
   },
   "file_extension": ".py",
   "mimetype": "text/x-python",
   "name": "python",
   "nbconvert_exporter": "python",
   "pygments_lexer": "ipython3",
   "version": "3.11.1"
  },
  "orig_nbformat": 4
 },
 "nbformat": 4,
 "nbformat_minor": 2
}
