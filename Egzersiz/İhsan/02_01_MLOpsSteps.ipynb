{
 "cells": [
  {
   "cell_type": "code",
   "execution_count": 5,
   "metadata": {},
   "outputs": [],
   "source": [
    "import pandas as pd\n",
    "import matplotlib.pyplot as plt\n",
    "import numpy as np"
   ]
  },
  {
   "attachments": {},
   "cell_type": "markdown",
   "metadata": {},
   "source": [
    "#### Veri setinin yüklenmesi"
   ]
  },
  {
   "cell_type": "code",
   "execution_count": 6,
   "metadata": {},
   "outputs": [],
   "source": [
    "df = pd.read_csv(\"/workspace/DeepLearningFundamentals/Datasets/heart.csv\")"
   ]
  },
  {
   "attachments": {},
   "cell_type": "markdown",
   "metadata": {},
   "source": [
    "#### Veri Setini Keşfedelim"
   ]
  },
  {
   "attachments": {},
   "cell_type": "markdown",
   "metadata": {},
   "source": [
    "head and tail"
   ]
  },
  {
   "cell_type": "code",
   "execution_count": 7,
   "metadata": {},
   "outputs": [
    {
     "data": {
      "text/html": [
       "<div>\n",
       "<style scoped>\n",
       "    .dataframe tbody tr th:only-of-type {\n",
       "        vertical-align: middle;\n",
       "    }\n",
       "\n",
       "    .dataframe tbody tr th {\n",
       "        vertical-align: top;\n",
       "    }\n",
       "\n",
       "    .dataframe thead th {\n",
       "        text-align: right;\n",
       "    }\n",
       "</style>\n",
       "<table border=\"1\" class=\"dataframe\">\n",
       "  <thead>\n",
       "    <tr style=\"text-align: right;\">\n",
       "      <th></th>\n",
       "      <th>AGE_50</th>\n",
       "      <th>MD_50</th>\n",
       "      <th>SBP_50</th>\n",
       "      <th>DBP_50</th>\n",
       "      <th>HT_50</th>\n",
       "      <th>WT_50</th>\n",
       "      <th>CHOL_50</th>\n",
       "      <th>SES</th>\n",
       "      <th>CL_STATUS</th>\n",
       "      <th>MD_62</th>\n",
       "      <th>SBP_62</th>\n",
       "      <th>DBP_62</th>\n",
       "      <th>CHOL_62</th>\n",
       "      <th>WT_62</th>\n",
       "      <th>IHD_DX</th>\n",
       "      <th>DEATH</th>\n",
       "    </tr>\n",
       "  </thead>\n",
       "  <tbody>\n",
       "    <tr>\n",
       "      <th>0</th>\n",
       "      <td>42</td>\n",
       "      <td>1</td>\n",
       "      <td>110</td>\n",
       "      <td>65</td>\n",
       "      <td>64</td>\n",
       "      <td>147</td>\n",
       "      <td>291</td>\n",
       "      <td>2</td>\n",
       "      <td>8</td>\n",
       "      <td>4</td>\n",
       "      <td>120</td>\n",
       "      <td>78</td>\n",
       "      <td>271</td>\n",
       "      <td>146</td>\n",
       "      <td>2</td>\n",
       "      <td>1</td>\n",
       "    </tr>\n",
       "    <tr>\n",
       "      <th>1</th>\n",
       "      <td>53</td>\n",
       "      <td>1</td>\n",
       "      <td>130</td>\n",
       "      <td>72</td>\n",
       "      <td>69</td>\n",
       "      <td>167</td>\n",
       "      <td>278</td>\n",
       "      <td>1</td>\n",
       "      <td>6</td>\n",
       "      <td>2</td>\n",
       "      <td>122</td>\n",
       "      <td>68</td>\n",
       "      <td>250</td>\n",
       "      <td>165</td>\n",
       "      <td>9</td>\n",
       "      <td>1</td>\n",
       "    </tr>\n",
       "    <tr>\n",
       "      <th>2</th>\n",
       "      <td>53</td>\n",
       "      <td>2</td>\n",
       "      <td>120</td>\n",
       "      <td>90</td>\n",
       "      <td>70</td>\n",
       "      <td>222</td>\n",
       "      <td>342</td>\n",
       "      <td>4</td>\n",
       "      <td>8</td>\n",
       "      <td>1</td>\n",
       "      <td>132</td>\n",
       "      <td>90</td>\n",
       "      <td>304</td>\n",
       "      <td>223</td>\n",
       "      <td>2</td>\n",
       "      <td>1</td>\n",
       "    </tr>\n",
       "    <tr>\n",
       "      <th>3</th>\n",
       "      <td>48</td>\n",
       "      <td>4</td>\n",
       "      <td>120</td>\n",
       "      <td>80</td>\n",
       "      <td>72</td>\n",
       "      <td>229</td>\n",
       "      <td>239</td>\n",
       "      <td>4</td>\n",
       "      <td>8</td>\n",
       "      <td>2</td>\n",
       "      <td>118</td>\n",
       "      <td>68</td>\n",
       "      <td>209</td>\n",
       "      <td>227</td>\n",
       "      <td>3</td>\n",
       "      <td>1</td>\n",
       "    </tr>\n",
       "    <tr>\n",
       "      <th>4</th>\n",
       "      <td>53</td>\n",
       "      <td>3</td>\n",
       "      <td>118</td>\n",
       "      <td>74</td>\n",
       "      <td>66</td>\n",
       "      <td>134</td>\n",
       "      <td>243</td>\n",
       "      <td>3</td>\n",
       "      <td>8</td>\n",
       "      <td>5</td>\n",
       "      <td>118</td>\n",
       "      <td>56</td>\n",
       "      <td>261</td>\n",
       "      <td>138</td>\n",
       "      <td>2</td>\n",
       "      <td>1</td>\n",
       "    </tr>\n",
       "  </tbody>\n",
       "</table>\n",
       "</div>"
      ],
      "text/plain": [
       "   AGE_50  MD_50  SBP_50  DBP_50  HT_50  WT_50  CHOL_50  SES  CL_STATUS  \\\n",
       "0      42      1     110      65     64    147      291    2          8   \n",
       "1      53      1     130      72     69    167      278    1          6   \n",
       "2      53      2     120      90     70    222      342    4          8   \n",
       "3      48      4     120      80     72    229      239    4          8   \n",
       "4      53      3     118      74     66    134      243    3          8   \n",
       "\n",
       "   MD_62  SBP_62  DBP_62  CHOL_62  WT_62  IHD_DX  DEATH  \n",
       "0      4     120      78      271    146       2      1  \n",
       "1      2     122      68      250    165       9      1  \n",
       "2      1     132      90      304    223       2      1  \n",
       "3      2     118      68      209    227       3      1  \n",
       "4      5     118      56      261    138       2      1  "
      ]
     },
     "execution_count": 7,
     "metadata": {},
     "output_type": "execute_result"
    }
   ],
   "source": [
    "df.head()"
   ]
  },
  {
   "attachments": {},
   "cell_type": "markdown",
   "metadata": {},
   "source": [
    "info"
   ]
  },
  {
   "cell_type": "code",
   "execution_count": 8,
   "metadata": {},
   "outputs": [
    {
     "name": "stdout",
     "output_type": "stream",
     "text": [
      "<class 'pandas.core.frame.DataFrame'>\n",
      "RangeIndex: 200 entries, 0 to 199\n",
      "Data columns (total 16 columns):\n",
      " #   Column     Non-Null Count  Dtype\n",
      "---  ------     --------------  -----\n",
      " 0   AGE_50     200 non-null    int64\n",
      " 1   MD_50      200 non-null    int64\n",
      " 2   SBP_50     200 non-null    int64\n",
      " 3   DBP_50     200 non-null    int64\n",
      " 4   HT_50      200 non-null    int64\n",
      " 5   WT_50      200 non-null    int64\n",
      " 6   CHOL_50    200 non-null    int64\n",
      " 7   SES        200 non-null    int64\n",
      " 8   CL_STATUS  200 non-null    int64\n",
      " 9   MD_62      200 non-null    int64\n",
      " 10  SBP_62     200 non-null    int64\n",
      " 11  DBP_62     200 non-null    int64\n",
      " 12  CHOL_62    200 non-null    int64\n",
      " 13  WT_62      200 non-null    int64\n",
      " 14  IHD_DX     200 non-null    int64\n",
      " 15  DEATH      200 non-null    int64\n",
      "dtypes: int64(16)\n",
      "memory usage: 25.1 KB\n"
     ]
    }
   ],
   "source": [
    "df.info()"
   ]
  },
  {
   "attachments": {},
   "cell_type": "markdown",
   "metadata": {},
   "source": [
    "describe"
   ]
  },
  {
   "cell_type": "code",
   "execution_count": 9,
   "metadata": {},
   "outputs": [
    {
     "data": {
      "text/html": [
       "<div>\n",
       "<style scoped>\n",
       "    .dataframe tbody tr th:only-of-type {\n",
       "        vertical-align: middle;\n",
       "    }\n",
       "\n",
       "    .dataframe tbody tr th {\n",
       "        vertical-align: top;\n",
       "    }\n",
       "\n",
       "    .dataframe thead th {\n",
       "        text-align: right;\n",
       "    }\n",
       "</style>\n",
       "<table border=\"1\" class=\"dataframe\">\n",
       "  <thead>\n",
       "    <tr style=\"text-align: right;\">\n",
       "      <th></th>\n",
       "      <th>AGE_50</th>\n",
       "      <th>MD_50</th>\n",
       "      <th>SBP_50</th>\n",
       "      <th>DBP_50</th>\n",
       "      <th>HT_50</th>\n",
       "      <th>WT_50</th>\n",
       "      <th>CHOL_50</th>\n",
       "      <th>SES</th>\n",
       "      <th>CL_STATUS</th>\n",
       "      <th>MD_62</th>\n",
       "      <th>SBP_62</th>\n",
       "      <th>DBP_62</th>\n",
       "      <th>CHOL_62</th>\n",
       "      <th>WT_62</th>\n",
       "      <th>IHD_DX</th>\n",
       "      <th>DEATH</th>\n",
       "    </tr>\n",
       "  </thead>\n",
       "  <tbody>\n",
       "    <tr>\n",
       "      <th>count</th>\n",
       "      <td>200.00000</td>\n",
       "      <td>200.000000</td>\n",
       "      <td>200.000000</td>\n",
       "      <td>200.000000</td>\n",
       "      <td>200.000000</td>\n",
       "      <td>200.000000</td>\n",
       "      <td>200.000000</td>\n",
       "      <td>200.000000</td>\n",
       "      <td>200.000000</td>\n",
       "      <td>200.000000</td>\n",
       "      <td>200.000000</td>\n",
       "      <td>200.000000</td>\n",
       "      <td>200.000000</td>\n",
       "      <td>200.000000</td>\n",
       "      <td>200.000000</td>\n",
       "      <td>200.000000</td>\n",
       "    </tr>\n",
       "    <tr>\n",
       "      <th>mean</th>\n",
       "      <td>46.06500</td>\n",
       "      <td>2.360000</td>\n",
       "      <td>124.700000</td>\n",
       "      <td>83.380000</td>\n",
       "      <td>68.160000</td>\n",
       "      <td>168.075000</td>\n",
       "      <td>258.105000</td>\n",
       "      <td>2.915000</td>\n",
       "      <td>7.650000</td>\n",
       "      <td>2.315000</td>\n",
       "      <td>141.480000</td>\n",
       "      <td>84.820000</td>\n",
       "      <td>254.070000</td>\n",
       "      <td>167.375000</td>\n",
       "      <td>1.410000</td>\n",
       "      <td>0.320000</td>\n",
       "    </tr>\n",
       "    <tr>\n",
       "      <th>std</th>\n",
       "      <td>10.81274</td>\n",
       "      <td>1.017633</td>\n",
       "      <td>18.114654</td>\n",
       "      <td>11.000484</td>\n",
       "      <td>2.768161</td>\n",
       "      <td>26.639589</td>\n",
       "      <td>55.524126</td>\n",
       "      <td>1.069342</td>\n",
       "      <td>1.119718</td>\n",
       "      <td>1.197055</td>\n",
       "      <td>24.656833</td>\n",
       "      <td>12.808116</td>\n",
       "      <td>46.509686</td>\n",
       "      <td>27.516178</td>\n",
       "      <td>2.464196</td>\n",
       "      <td>0.467647</td>\n",
       "    </tr>\n",
       "    <tr>\n",
       "      <th>min</th>\n",
       "      <td>20.00000</td>\n",
       "      <td>1.000000</td>\n",
       "      <td>88.000000</td>\n",
       "      <td>38.000000</td>\n",
       "      <td>61.000000</td>\n",
       "      <td>109.000000</td>\n",
       "      <td>120.000000</td>\n",
       "      <td>1.000000</td>\n",
       "      <td>0.000000</td>\n",
       "      <td>1.000000</td>\n",
       "      <td>70.000000</td>\n",
       "      <td>56.000000</td>\n",
       "      <td>139.000000</td>\n",
       "      <td>108.000000</td>\n",
       "      <td>0.000000</td>\n",
       "      <td>0.000000</td>\n",
       "    </tr>\n",
       "    <tr>\n",
       "      <th>25%</th>\n",
       "      <td>38.00000</td>\n",
       "      <td>1.000000</td>\n",
       "      <td>110.000000</td>\n",
       "      <td>78.000000</td>\n",
       "      <td>66.000000</td>\n",
       "      <td>147.000000</td>\n",
       "      <td>220.000000</td>\n",
       "      <td>2.000000</td>\n",
       "      <td>8.000000</td>\n",
       "      <td>1.000000</td>\n",
       "      <td>125.000000</td>\n",
       "      <td>76.000000</td>\n",
       "      <td>222.750000</td>\n",
       "      <td>148.750000</td>\n",
       "      <td>0.000000</td>\n",
       "      <td>0.000000</td>\n",
       "    </tr>\n",
       "    <tr>\n",
       "      <th>50%</th>\n",
       "      <td>47.00000</td>\n",
       "      <td>2.000000</td>\n",
       "      <td>120.000000</td>\n",
       "      <td>80.000000</td>\n",
       "      <td>68.000000</td>\n",
       "      <td>165.000000</td>\n",
       "      <td>250.000000</td>\n",
       "      <td>3.000000</td>\n",
       "      <td>8.000000</td>\n",
       "      <td>2.000000</td>\n",
       "      <td>138.000000</td>\n",
       "      <td>83.000000</td>\n",
       "      <td>251.500000</td>\n",
       "      <td>165.500000</td>\n",
       "      <td>0.000000</td>\n",
       "      <td>0.000000</td>\n",
       "    </tr>\n",
       "    <tr>\n",
       "      <th>75%</th>\n",
       "      <td>54.00000</td>\n",
       "      <td>3.000000</td>\n",
       "      <td>130.000000</td>\n",
       "      <td>90.000000</td>\n",
       "      <td>70.000000</td>\n",
       "      <td>189.000000</td>\n",
       "      <td>295.000000</td>\n",
       "      <td>3.000000</td>\n",
       "      <td>8.000000</td>\n",
       "      <td>3.000000</td>\n",
       "      <td>155.000000</td>\n",
       "      <td>90.000000</td>\n",
       "      <td>283.250000</td>\n",
       "      <td>187.000000</td>\n",
       "      <td>2.000000</td>\n",
       "      <td>1.000000</td>\n",
       "    </tr>\n",
       "    <tr>\n",
       "      <th>max</th>\n",
       "      <td>69.00000</td>\n",
       "      <td>4.000000</td>\n",
       "      <td>210.000000</td>\n",
       "      <td>140.000000</td>\n",
       "      <td>75.000000</td>\n",
       "      <td>245.000000</td>\n",
       "      <td>535.000000</td>\n",
       "      <td>5.000000</td>\n",
       "      <td>8.000000</td>\n",
       "      <td>5.000000</td>\n",
       "      <td>230.000000</td>\n",
       "      <td>125.000000</td>\n",
       "      <td>368.000000</td>\n",
       "      <td>246.000000</td>\n",
       "      <td>9.000000</td>\n",
       "      <td>1.000000</td>\n",
       "    </tr>\n",
       "  </tbody>\n",
       "</table>\n",
       "</div>"
      ],
      "text/plain": [
       "          AGE_50       MD_50      SBP_50      DBP_50       HT_50       WT_50  \\\n",
       "count  200.00000  200.000000  200.000000  200.000000  200.000000  200.000000   \n",
       "mean    46.06500    2.360000  124.700000   83.380000   68.160000  168.075000   \n",
       "std     10.81274    1.017633   18.114654   11.000484    2.768161   26.639589   \n",
       "min     20.00000    1.000000   88.000000   38.000000   61.000000  109.000000   \n",
       "25%     38.00000    1.000000  110.000000   78.000000   66.000000  147.000000   \n",
       "50%     47.00000    2.000000  120.000000   80.000000   68.000000  165.000000   \n",
       "75%     54.00000    3.000000  130.000000   90.000000   70.000000  189.000000   \n",
       "max     69.00000    4.000000  210.000000  140.000000   75.000000  245.000000   \n",
       "\n",
       "          CHOL_50         SES   CL_STATUS       MD_62      SBP_62      DBP_62  \\\n",
       "count  200.000000  200.000000  200.000000  200.000000  200.000000  200.000000   \n",
       "mean   258.105000    2.915000    7.650000    2.315000  141.480000   84.820000   \n",
       "std     55.524126    1.069342    1.119718    1.197055   24.656833   12.808116   \n",
       "min    120.000000    1.000000    0.000000    1.000000   70.000000   56.000000   \n",
       "25%    220.000000    2.000000    8.000000    1.000000  125.000000   76.000000   \n",
       "50%    250.000000    3.000000    8.000000    2.000000  138.000000   83.000000   \n",
       "75%    295.000000    3.000000    8.000000    3.000000  155.000000   90.000000   \n",
       "max    535.000000    5.000000    8.000000    5.000000  230.000000  125.000000   \n",
       "\n",
       "          CHOL_62       WT_62      IHD_DX       DEATH  \n",
       "count  200.000000  200.000000  200.000000  200.000000  \n",
       "mean   254.070000  167.375000    1.410000    0.320000  \n",
       "std     46.509686   27.516178    2.464196    0.467647  \n",
       "min    139.000000  108.000000    0.000000    0.000000  \n",
       "25%    222.750000  148.750000    0.000000    0.000000  \n",
       "50%    251.500000  165.500000    0.000000    0.000000  \n",
       "75%    283.250000  187.000000    2.000000    1.000000  \n",
       "max    368.000000  246.000000    9.000000    1.000000  "
      ]
     },
     "execution_count": 9,
     "metadata": {},
     "output_type": "execute_result"
    }
   ],
   "source": [
    "df.describe()"
   ]
  },
  {
   "attachments": {},
   "cell_type": "markdown",
   "metadata": {},
   "source": [
    "#### Boş verilerin temizlenmesi (Handling Missing Data)"
   ]
  },
  {
   "attachments": {},
   "cell_type": "markdown",
   "metadata": {},
   "source": [
    "boş verilerin tespit edilmesi"
   ]
  },
  {
   "cell_type": "code",
   "execution_count": 10,
   "metadata": {},
   "outputs": [
    {
     "data": {
      "text/plain": [
       "AGE_50       0\n",
       "MD_50        0\n",
       "SBP_50       0\n",
       "DBP_50       0\n",
       "HT_50        0\n",
       "WT_50        0\n",
       "CHOL_50      0\n",
       "SES          0\n",
       "CL_STATUS    0\n",
       "MD_62        0\n",
       "SBP_62       0\n",
       "DBP_62       0\n",
       "CHOL_62      0\n",
       "WT_62        0\n",
       "IHD_DX       0\n",
       "DEATH        0\n",
       "dtype: int64"
      ]
     },
     "execution_count": 10,
     "metadata": {},
     "output_type": "execute_result"
    }
   ],
   "source": [
    "df.isna().sum()"
   ]
  },
  {
   "attachments": {},
   "cell_type": "markdown",
   "metadata": {},
   "source": [
    "boşverilerin temizlenmesi (Boş veri Yok ise boş geçilebilir)"
   ]
  },
  {
   "attachments": {},
   "cell_type": "markdown",
   "metadata": {},
   "source": []
  },
  {
   "attachments": {},
   "cell_type": "markdown",
   "metadata": {},
   "source": [
    "#### Kategorik verilerin dönüştürülmesi (Encoding Data)"
   ]
  },
  {
   "attachments": {},
   "cell_type": "markdown",
   "metadata": {},
   "source": [
    "Veri Tiplerinin Tespiti"
   ]
  },
  {
   "cell_type": "code",
   "execution_count": 11,
   "metadata": {},
   "outputs": [
    {
     "data": {
      "text/plain": [
       "AGE_50       int64\n",
       "MD_50        int64\n",
       "SBP_50       int64\n",
       "DBP_50       int64\n",
       "HT_50        int64\n",
       "WT_50        int64\n",
       "CHOL_50      int64\n",
       "SES          int64\n",
       "CL_STATUS    int64\n",
       "MD_62        int64\n",
       "SBP_62       int64\n",
       "DBP_62       int64\n",
       "CHOL_62      int64\n",
       "WT_62        int64\n",
       "IHD_DX       int64\n",
       "DEATH        int64\n",
       "dtype: object"
      ]
     },
     "execution_count": 11,
     "metadata": {},
     "output_type": "execute_result"
    }
   ],
   "source": [
    "df.dtypes"
   ]
  },
  {
   "attachments": {},
   "cell_type": "markdown",
   "metadata": {},
   "source": [
    "Verilerin Dönüştürülmesi (Yok ise boş geçilebilir)"
   ]
  },
  {
   "cell_type": "code",
   "execution_count": null,
   "metadata": {},
   "outputs": [],
   "source": []
  },
  {
   "attachments": {},
   "cell_type": "markdown",
   "metadata": {},
   "source": [
    "#### Aykırı Verilerin Tespiti\n"
   ]
  },
  {
   "attachments": {},
   "cell_type": "markdown",
   "metadata": {},
   "source": [
    "Verilerin dağılım grafiği ile tespit edilmesi"
   ]
  },
  {
   "cell_type": "code",
   "execution_count": null,
   "metadata": {},
   "outputs": [],
   "source": []
  },
  {
   "attachments": {},
   "cell_type": "markdown",
   "metadata": {},
   "source": [
    "Verilerin IQR yöntemi ile tespit edilip kaldırılması"
   ]
  },
  {
   "cell_type": "code",
   "execution_count": 12,
   "metadata": {},
   "outputs": [
    {
     "ename": "KeyError",
     "evalue": "'Age'",
     "output_type": "error",
     "traceback": [
      "\u001b[0;31m---------------------------------------------------------------------------\u001b[0m",
      "\u001b[0;31mKeyError\u001b[0m                                  Traceback (most recent call last)",
      "File \u001b[0;32m/workspace/.pyenv_mirror/user/current/lib/python3.11/site-packages/pandas/core/indexes/base.py:3653\u001b[0m, in \u001b[0;36mIndex.get_loc\u001b[0;34m(self, key)\u001b[0m\n\u001b[1;32m   3652\u001b[0m \u001b[39mtry\u001b[39;00m:\n\u001b[0;32m-> 3653\u001b[0m     \u001b[39mreturn\u001b[39;00m \u001b[39mself\u001b[39;49m\u001b[39m.\u001b[39;49m_engine\u001b[39m.\u001b[39;49mget_loc(casted_key)\n\u001b[1;32m   3654\u001b[0m \u001b[39mexcept\u001b[39;00m \u001b[39mKeyError\u001b[39;00m \u001b[39mas\u001b[39;00m err:\n",
      "File \u001b[0;32m/workspace/.pyenv_mirror/user/current/lib/python3.11/site-packages/pandas/_libs/index.pyx:147\u001b[0m, in \u001b[0;36mpandas._libs.index.IndexEngine.get_loc\u001b[0;34m()\u001b[0m\n",
      "File \u001b[0;32m/workspace/.pyenv_mirror/user/current/lib/python3.11/site-packages/pandas/_libs/index.pyx:176\u001b[0m, in \u001b[0;36mpandas._libs.index.IndexEngine.get_loc\u001b[0;34m()\u001b[0m\n",
      "File \u001b[0;32mpandas/_libs/hashtable_class_helper.pxi:7080\u001b[0m, in \u001b[0;36mpandas._libs.hashtable.PyObjectHashTable.get_item\u001b[0;34m()\u001b[0m\n",
      "File \u001b[0;32mpandas/_libs/hashtable_class_helper.pxi:7088\u001b[0m, in \u001b[0;36mpandas._libs.hashtable.PyObjectHashTable.get_item\u001b[0;34m()\u001b[0m\n",
      "\u001b[0;31mKeyError\u001b[0m: 'Age'",
      "\nThe above exception was the direct cause of the following exception:\n",
      "\u001b[0;31mKeyError\u001b[0m                                  Traceback (most recent call last)",
      "Cell \u001b[0;32mIn[12], line 15\u001b[0m\n\u001b[1;32m     12\u001b[0m     \u001b[39mreturn\u001b[39;00m  df[\u001b[39m~\u001b[39mdf\u001b[39m.\u001b[39misin(out)]\u001b[39m.\u001b[39mdropna(axis\u001b[39m=\u001b[39m\u001b[39m0\u001b[39m)\n\u001b[1;32m     13\u001b[0m dfclean \u001b[39m=\u001b[39m df\u001b[39m.\u001b[39mcopy()\n\u001b[0;32m---> 15\u001b[0m dfclean[\u001b[39m\"\u001b[39m\u001b[39mAge\u001b[39m\u001b[39m\"\u001b[39m] \u001b[39m=\u001b[39m iqr_outliers(df[\u001b[39m\"\u001b[39;49m\u001b[39mAge\u001b[39;49m\u001b[39m\"\u001b[39;49m])\n",
      "File \u001b[0;32m/workspace/.pyenv_mirror/user/current/lib/python3.11/site-packages/pandas/core/frame.py:3761\u001b[0m, in \u001b[0;36mDataFrame.__getitem__\u001b[0;34m(self, key)\u001b[0m\n\u001b[1;32m   3759\u001b[0m \u001b[39mif\u001b[39;00m \u001b[39mself\u001b[39m\u001b[39m.\u001b[39mcolumns\u001b[39m.\u001b[39mnlevels \u001b[39m>\u001b[39m \u001b[39m1\u001b[39m:\n\u001b[1;32m   3760\u001b[0m     \u001b[39mreturn\u001b[39;00m \u001b[39mself\u001b[39m\u001b[39m.\u001b[39m_getitem_multilevel(key)\n\u001b[0;32m-> 3761\u001b[0m indexer \u001b[39m=\u001b[39m \u001b[39mself\u001b[39;49m\u001b[39m.\u001b[39;49mcolumns\u001b[39m.\u001b[39;49mget_loc(key)\n\u001b[1;32m   3762\u001b[0m \u001b[39mif\u001b[39;00m is_integer(indexer):\n\u001b[1;32m   3763\u001b[0m     indexer \u001b[39m=\u001b[39m [indexer]\n",
      "File \u001b[0;32m/workspace/.pyenv_mirror/user/current/lib/python3.11/site-packages/pandas/core/indexes/base.py:3655\u001b[0m, in \u001b[0;36mIndex.get_loc\u001b[0;34m(self, key)\u001b[0m\n\u001b[1;32m   3653\u001b[0m     \u001b[39mreturn\u001b[39;00m \u001b[39mself\u001b[39m\u001b[39m.\u001b[39m_engine\u001b[39m.\u001b[39mget_loc(casted_key)\n\u001b[1;32m   3654\u001b[0m \u001b[39mexcept\u001b[39;00m \u001b[39mKeyError\u001b[39;00m \u001b[39mas\u001b[39;00m err:\n\u001b[0;32m-> 3655\u001b[0m     \u001b[39mraise\u001b[39;00m \u001b[39mKeyError\u001b[39;00m(key) \u001b[39mfrom\u001b[39;00m \u001b[39merr\u001b[39;00m\n\u001b[1;32m   3656\u001b[0m \u001b[39mexcept\u001b[39;00m \u001b[39mTypeError\u001b[39;00m:\n\u001b[1;32m   3657\u001b[0m     \u001b[39m# If we have a listlike key, _check_indexing_error will raise\u001b[39;00m\n\u001b[1;32m   3658\u001b[0m     \u001b[39m#  InvalidIndexError. Otherwise we fall through and re-raise\u001b[39;00m\n\u001b[1;32m   3659\u001b[0m     \u001b[39m#  the TypeError.\u001b[39;00m\n\u001b[1;32m   3660\u001b[0m     \u001b[39mself\u001b[39m\u001b[39m.\u001b[39m_check_indexing_error(key)\n",
      "\u001b[0;31mKeyError\u001b[0m: 'Age'"
     ]
    }
   ],
   "source": []
  },
  {
   "attachments": {},
   "cell_type": "markdown",
   "metadata": {},
   "source": [
    "#### Etiket Verisi varsa veri setinden ayrılması"
   ]
  },
  {
   "cell_type": "code",
   "execution_count": null,
   "metadata": {},
   "outputs": [],
   "source": []
  },
  {
   "attachments": {},
   "cell_type": "markdown",
   "metadata": {},
   "source": [
    "#### Eğitim ve Test Setinin Birbirinden Ayrılması"
   ]
  },
  {
   "cell_type": "code",
   "execution_count": null,
   "metadata": {},
   "outputs": [],
   "source": []
  },
  {
   "attachments": {},
   "cell_type": "markdown",
   "metadata": {},
   "source": [
    "#### Veri Ölçeklendirme işleminin gerçekleştirilmesi"
   ]
  },
  {
   "cell_type": "code",
   "execution_count": 1,
   "metadata": {},
   "outputs": [],
   "source": [
    "import pandas as pd\n",
    "import matplotlib.pyplot as plt\n",
    "import numpy as np"
   ]
  },
  {
   "cell_type": "code",
   "execution_count": 2,
   "metadata": {},
   "outputs": [],
   "source": [
    "df=pd.read_csv(\"/workspace/DeepLearningFundamentals/beginner_datasets/heart.csv\")"
   ]
  },
  {
   "cell_type": "code",
   "execution_count": 3,
   "metadata": {},
   "outputs": [
    {
     "data": {
      "text/html": [
       "<div>\n",
       "<style scoped>\n",
       "    .dataframe tbody tr th:only-of-type {\n",
       "        vertical-align: middle;\n",
       "    }\n",
       "\n",
       "    .dataframe tbody tr th {\n",
       "        vertical-align: top;\n",
       "    }\n",
       "\n",
       "    .dataframe thead th {\n",
       "        text-align: right;\n",
       "    }\n",
       "</style>\n",
       "<table border=\"1\" class=\"dataframe\">\n",
       "  <thead>\n",
       "    <tr style=\"text-align: right;\">\n",
       "      <th></th>\n",
       "      <th>area</th>\n",
       "      <th>perimeter</th>\n",
       "      <th>compactness</th>\n",
       "      <th>length</th>\n",
       "      <th>width</th>\n",
       "      <th>asymmetry</th>\n",
       "      <th>length.1</th>\n",
       "    </tr>\n",
       "  </thead>\n",
       "  <tbody>\n",
       "    <tr>\n",
       "      <th>0</th>\n",
       "      <td>15.26</td>\n",
       "      <td>14.84</td>\n",
       "      <td>0.8710</td>\n",
       "      <td>5.763</td>\n",
       "      <td>3.312</td>\n",
       "      <td>2.221</td>\n",
       "      <td>5.220</td>\n",
       "    </tr>\n",
       "    <tr>\n",
       "      <th>1</th>\n",
       "      <td>14.88</td>\n",
       "      <td>14.57</td>\n",
       "      <td>0.8811</td>\n",
       "      <td>5.554</td>\n",
       "      <td>3.333</td>\n",
       "      <td>1.018</td>\n",
       "      <td>4.956</td>\n",
       "    </tr>\n",
       "    <tr>\n",
       "      <th>2</th>\n",
       "      <td>14.29</td>\n",
       "      <td>14.09</td>\n",
       "      <td>0.9050</td>\n",
       "      <td>5.291</td>\n",
       "      <td>3.337</td>\n",
       "      <td>2.699</td>\n",
       "      <td>4.825</td>\n",
       "    </tr>\n",
       "    <tr>\n",
       "      <th>3</th>\n",
       "      <td>13.84</td>\n",
       "      <td>13.94</td>\n",
       "      <td>0.8955</td>\n",
       "      <td>5.324</td>\n",
       "      <td>3.379</td>\n",
       "      <td>2.259</td>\n",
       "      <td>4.805</td>\n",
       "    </tr>\n",
       "    <tr>\n",
       "      <th>4</th>\n",
       "      <td>16.14</td>\n",
       "      <td>14.99</td>\n",
       "      <td>0.9034</td>\n",
       "      <td>5.658</td>\n",
       "      <td>3.562</td>\n",
       "      <td>1.355</td>\n",
       "      <td>5.175</td>\n",
       "    </tr>\n",
       "  </tbody>\n",
       "</table>\n",
       "</div>"
      ],
      "text/plain": [
       "    area  perimeter  compactness  length  width  asymmetry  length.1\n",
       "0  15.26      14.84       0.8710   5.763  3.312      2.221     5.220\n",
       "1  14.88      14.57       0.8811   5.554  3.333      1.018     4.956\n",
       "2  14.29      14.09       0.9050   5.291  3.337      2.699     4.825\n",
       "3  13.84      13.94       0.8955   5.324  3.379      2.259     4.805\n",
       "4  16.14      14.99       0.9034   5.658  3.562      1.355     5.175"
      ]
     },
     "execution_count": 3,
     "metadata": {},
     "output_type": "execute_result"
    }
   ],
   "source": [
    "df.head()"
   ]
  },
  {
   "cell_type": "code",
   "execution_count": 4,
   "metadata": {},
   "outputs": [
    {
     "data": {
      "text/plain": [
       "area           0\n",
       "perimeter      0\n",
       "compactness    3\n",
       "length         0\n",
       "width          1\n",
       "asymmetry      0\n",
       "length.1       0\n",
       "dtype: int64"
      ]
     },
     "execution_count": 4,
     "metadata": {},
     "output_type": "execute_result"
    }
   ],
   "source": [
    "df.isna().sum()"
   ]
  },
  {
   "cell_type": "code",
   "execution_count": 5,
   "metadata": {},
   "outputs": [
    {
     "data": {
      "image/png": "[encoded data removed]",
      "text/plain": [
       "<Figure size 1000x1000 with 9 Axes>"
      ]
     },
     "metadata": {},
     "output_type": "display_data"
    }
   ],
   "source": [
    "df.hist(figsize=(10,10));"
   ]
  },
  {
   "cell_type": "code",
   "execution_count": null,
   "metadata": {},
   "outputs": [],
   "source": []
  }
 ],
 "metadata": {
  "kernelspec": {
   "display_name": "Python 3",
   "language": "python",
   "name": "python3"
  },
  "language_info": {
   "codemirror_mode": {
    "name": "ipython",
    "version": 3
   },
   "file_extension": ".py",
   "mimetype": "text/x-python",
   "name": "python",
   "nbconvert_exporter": "python",
   "pygments_lexer": "ipython3",
   "version": "3.11.1"
  },
  "orig_nbformat": 4
 },
 "nbformat": 4,
 "nbformat_minor": 2
}
